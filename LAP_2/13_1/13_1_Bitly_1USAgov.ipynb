{
  "nbformat": 4,
  "nbformat_minor": 0,
  "metadata": {
    "colab": {
      "provenance": []
    },
    "kernelspec": {
      "name": "python3",
      "display_name": "Python 3"
    },
    "language_info": {
      "name": "python"
    }
  },
  "cells": [
    {
      "cell_type": "markdown",
      "source": [
        "# **Bitly Data from 1.USA.gov**"
      ],
      "metadata": {
        "id": "QywdN-VxBkuh"
      }
    },
    {
      "cell_type": "markdown",
      "source": [
        "*Chú thích: Nên chạy notebook theo thứ tự để tránh phát sinh lỗi không mong muốn*"
      ],
      "metadata": {
        "id": "VCuCob46FNuV"
      }
    },
    {
      "cell_type": "markdown",
      "source": [
        "Tổng quan: Bộ dữ liệu ẩn hợp tác giữa Bitly và trang web chính phủ Hoa Kỳ USA.gov về người dùng khi họ rút ngắn các liên kết được kết thúc bằng .gov hoặc .mil. Bộ dữ liệu từng được thu thập và có thể tải trực tiếp vào năm 2011. Tuy nhiên chương trình hợp tác trên đã kết thúc đúng tại thời điểm cuốn sách Pydata Book 3rd Edition được biên soạn vào năm 2022."
      ],
      "metadata": {
        "id": "ug2bkxhkCFM1"
      }
    },
    {
      "cell_type": "markdown",
      "source": [
        "Người dùng có thể truy cập dữ liệu này thông qua đường liên kết đến github: https://github.com/wesm/pydata-book"
      ],
      "metadata": {
        "id": "aIfJ2igxEqVc"
      }
    },
    {
      "cell_type": "markdown",
      "source": [
        "**Clone dataset từ github: https://github.com/wesm/pydata-book**"
      ],
      "metadata": {
        "id": "5we8ZiERS2tB"
      }
    },
    {
      "cell_type": "code",
      "source": [
        "!git clone https://github.com/wesm/pydata-book.git"
      ],
      "metadata": {
        "colab": {
          "base_uri": "https://localhost:8080/"
        },
        "id": "AKJRkG7OFaz2",
        "outputId": "fe8bc065-7045-4522-ed70-377e4bc10786"
      },
      "execution_count": 1,
      "outputs": [
        {
          "output_type": "stream",
          "name": "stdout",
          "text": [
            "Cloning into 'pydata-book'...\n",
            "remote: Enumerating objects: 558, done.\u001b[K\n",
            "remote: Counting objects: 100% (33/33), done.\u001b[K\n",
            "remote: Compressing objects: 100% (29/29), done.\u001b[K\n",
            "remote: Total 558 (delta 24), reused 7 (delta 4), pack-reused 525 (from 1)\u001b[K\n",
            "Receiving objects: 100% (558/558), 63.76 MiB | 17.09 MiB/s, done.\n",
            "Resolving deltas: 100% (210/210), done.\n",
            "Updating files: 100% (209/209), done.\n"
          ]
        }
      ]
    },
    {
      "cell_type": "markdown",
      "source": [
        "-------------------------------"
      ],
      "metadata": {
        "id": "dHwhWkqezJZO"
      }
    },
    {
      "cell_type": "markdown",
      "source": [
        "## 1. TRUY CẬP DỮ LIỆU"
      ],
      "metadata": {
        "id": "UpXVpD2OE4bA"
      }
    },
    {
      "cell_type": "markdown",
      "source": [
        "**Import thư viện**"
      ],
      "metadata": {
        "id": "HazLRJlCUF4q"
      }
    },
    {
      "cell_type": "code",
      "source": [
        "import json\n",
        "import pandas as pd\n",
        "import matplotlib as plt\n",
        "import seaborn as sns\n",
        "import numpy as np"
      ],
      "metadata": {
        "id": "owLfPptzTqN1"
      },
      "execution_count": 2,
      "outputs": []
    },
    {
      "cell_type": "markdown",
      "source": [
        "**Nạp dữ liệu vào notebook**"
      ],
      "metadata": {
        "id": "4nh9gP_-TRTH"
      }
    },
    {
      "cell_type": "code",
      "source": [
        "path = '/content/pydata-book/datasets/bitly_usagov/example.txt'\n",
        "\n",
        "# Convert to python dictionary.\n",
        "records = [json.loads(line) for line in open(path)]\n",
        "\n",
        "# Show record 0\n",
        "records[0]"
      ],
      "metadata": {
        "colab": {
          "base_uri": "https://localhost:8080/"
        },
        "id": "dIjN8ivzTmJ_",
        "outputId": "55828970-6e41-473b-a9d1-d01f3853d4a1"
      },
      "execution_count": 5,
      "outputs": [
        {
          "output_type": "execute_result",
          "data": {
            "text/plain": [
              "{'a': 'Mozilla/5.0 (Windows NT 6.1; WOW64) AppleWebKit/535.11 (KHTML, like Gecko) Chrome/17.0.963.78 Safari/535.11',\n",
              " 'c': 'US',\n",
              " 'nk': 1,\n",
              " 'tz': 'America/New_York',\n",
              " 'gr': 'MA',\n",
              " 'g': 'A6qOVH',\n",
              " 'h': 'wfLQtf',\n",
              " 'l': 'orofrog',\n",
              " 'al': 'en-US,en;q=0.8',\n",
              " 'hh': '1.usa.gov',\n",
              " 'r': 'http://www.facebook.com/l/7AQEFzjSi/1.usa.gov/wfLQtf',\n",
              " 'u': 'http://www.ncbi.nlm.nih.gov/pubmed/22415991',\n",
              " 't': 1331923247,\n",
              " 'hc': 1331822918,\n",
              " 'cy': 'Danvers',\n",
              " 'll': [42.576698, -70.954903]}"
            ]
          },
          "metadata": {},
          "execution_count": 5
        }
      ]
    },
    {
      "cell_type": "markdown",
      "source": [
        "---"
      ],
      "metadata": {
        "id": "rrC1Y2-_zFkO"
      }
    },
    {
      "cell_type": "markdown",
      "source": [
        "## 2. KHAI PHÁ VÀ XỬ LÝ DỮ LIỆU"
      ],
      "metadata": {
        "id": "DZiFumlnXra3"
      }
    },
    {
      "cell_type": "markdown",
      "source": [
        "BẢNG Ý NGHĨA CÁC TRƯỜNG DỮ LIỆU"
      ],
      "metadata": {
        "id": "wAUhncpliyuL"
      }
    },
    {
      "cell_type": "markdown",
      "source": [
        "| # | Column | Meaning | #  | Column      | Meaning |\n",
        "|---|--------|---------|----|-------------|---------|\n",
        "| 0 | a      | browser, device, application used | 9  | hh          |         |\n",
        "| 1 | c      |         | 10 | r           |         |\n",
        "| 2 | nk     |         | 11 | u           |         |\n",
        "| 3 | tz     |timezone | 12 | t           |         |\n",
        "| 4 | gr     |         | 13 | hc          |         |\n",
        "| 5 | g      |         | 14 | cy          |         |\n",
        "| 6 | h      |         | 15 | ll          |         |\n",
        "| 7 | l      |         | 16 | _heartbeat_ |         |\n",
        "| 8 | al     |         | 17 | kw          |         |"
      ],
      "metadata": {
        "id": "iiPbH1jQkj65"
      }
    },
    {
      "cell_type": "markdown",
      "source": [
        "#### A. Time Zones"
      ],
      "metadata": {
        "id": "L2w72FBmXzqO"
      }
    },
    {
      "cell_type": "markdown",
      "source": [
        "1. ĐẾM TIME ZONES VỚI PYTHON THUẦN TÚY"
      ],
      "metadata": {
        "id": "NaN5LN2fYT_8"
      }
    },
    {
      "cell_type": "code",
      "source": [
        "time_zones = [rec['tz'] for rec in records if 'tz' in rec]\n",
        "\n",
        "time_zones[:10]"
      ],
      "metadata": {
        "colab": {
          "base_uri": "https://localhost:8080/"
        },
        "id": "_9Fo0vSoYogo",
        "outputId": "4e60ee6f-94cb-4996-d949-fa9a1c13d98d"
      },
      "execution_count": 20,
      "outputs": [
        {
          "output_type": "execute_result",
          "data": {
            "text/plain": [
              "['America/New_York',\n",
              " 'America/Denver',\n",
              " 'America/New_York',\n",
              " 'America/Sao_Paulo',\n",
              " 'America/New_York',\n",
              " 'America/New_York',\n",
              " 'Europe/Warsaw',\n",
              " '',\n",
              " '',\n",
              " '']"
            ]
          },
          "metadata": {},
          "execution_count": 20
        }
      ]
    },
    {
      "cell_type": "code",
      "source": [
        "# Initiate count function\n",
        "def get_counts(sequence):\n",
        "    counts = {}\n",
        "    for x in sequence:\n",
        "        if x in counts:\n",
        "            counts[x] += 1\n",
        "        else:\n",
        "            counts[x] = 1\n",
        "    return counts"
      ],
      "metadata": {
        "id": "cBvMmPGlZHpU"
      },
      "execution_count": 23,
      "outputs": []
    },
    {
      "cell_type": "code",
      "source": [
        "counts = get_counts(time_zones)"
      ],
      "metadata": {
        "id": "8o_TS3q3b7lL"
      },
      "execution_count": 24,
      "outputs": []
    },
    {
      "cell_type": "code",
      "source": [
        "counts['Africa/Cairo']"
      ],
      "metadata": {
        "colab": {
          "base_uri": "https://localhost:8080/"
        },
        "id": "K0mOnh-KcBYR",
        "outputId": "62077265-3d52-4439-c783-7995021e5017"
      },
      "execution_count": 25,
      "outputs": [
        {
          "output_type": "execute_result",
          "data": {
            "text/plain": [
              "3"
            ]
          },
          "metadata": {},
          "execution_count": 25
        }
      ]
    },
    {
      "cell_type": "code",
      "source": [
        "def top_counts(count_dict, n=10):\n",
        "  value_key_pairs = [(count, tz) for tz, count in count_dict.items()]\n",
        "  value_key_pairs.sort()\n",
        "  return value_key_pairs[-n:]\n",
        "\n",
        "top_counts(counts)"
      ],
      "metadata": {
        "colab": {
          "base_uri": "https://localhost:8080/"
        },
        "id": "9ySW3LJ0Z1nu",
        "outputId": "56312833-9d70-4a86-81cf-f9b0a414baa6"
      },
      "execution_count": 26,
      "outputs": [
        {
          "output_type": "execute_result",
          "data": {
            "text/plain": [
              "[(33, 'America/Sao_Paulo'),\n",
              " (35, 'Europe/Madrid'),\n",
              " (36, 'Pacific/Honolulu'),\n",
              " (37, 'Asia/Tokyo'),\n",
              " (74, 'Europe/London'),\n",
              " (191, 'America/Denver'),\n",
              " (382, 'America/Los_Angeles'),\n",
              " (400, 'America/Chicago'),\n",
              " (521, ''),\n",
              " (1251, 'America/New_York')]"
            ]
          },
          "metadata": {},
          "execution_count": 26
        }
      ]
    },
    {
      "cell_type": "code",
      "source": [
        "# Count python collection\n",
        "\n",
        "from collections import Counter\n",
        "\n",
        "counts = Counter(time_zones)"
      ],
      "metadata": {
        "id": "T6QI3YEYd7ui"
      },
      "execution_count": 27,
      "outputs": []
    },
    {
      "cell_type": "code",
      "source": [
        "counts.most_common(10)"
      ],
      "metadata": {
        "colab": {
          "base_uri": "https://localhost:8080/"
        },
        "id": "h5tgAU9jeF9j",
        "outputId": "f2655aaa-d309-4a61-e71d-a4d29b04dad7"
      },
      "execution_count": 28,
      "outputs": [
        {
          "output_type": "execute_result",
          "data": {
            "text/plain": [
              "[('America/New_York', 1251),\n",
              " ('', 521),\n",
              " ('America/Chicago', 400),\n",
              " ('America/Los_Angeles', 382),\n",
              " ('America/Denver', 191),\n",
              " ('Europe/London', 74),\n",
              " ('Asia/Tokyo', 37),\n",
              " ('Pacific/Honolulu', 36),\n",
              " ('Europe/Madrid', 35),\n",
              " ('America/Sao_Paulo', 33)]"
            ]
          },
          "metadata": {},
          "execution_count": 28
        }
      ]
    },
    {
      "cell_type": "markdown",
      "source": [
        "----"
      ],
      "metadata": {
        "id": "uaUC_t1dzA-d"
      }
    },
    {
      "cell_type": "markdown",
      "source": [
        "2. ĐẾM TIME ZONES VỚI PANDAS"
      ],
      "metadata": {
        "id": "8XdaAO0xeODX"
      }
    },
    {
      "cell_type": "markdown",
      "source": [
        "- **Result summarized**"
      ],
      "metadata": {
        "id": "-QbJH3pCfeET"
      }
    },
    {
      "cell_type": "code",
      "source": [
        "# Create DataFrame\n",
        "\n",
        "frame = pd.DataFrame(records)\n",
        "frame.info()"
      ],
      "metadata": {
        "colab": {
          "base_uri": "https://localhost:8080/"
        },
        "id": "w2PuH37teZDA",
        "outputId": "a8463be5-af31-4e99-d8a6-e39290ecece6"
      },
      "execution_count": 29,
      "outputs": [
        {
          "output_type": "stream",
          "name": "stdout",
          "text": [
            "<class 'pandas.core.frame.DataFrame'>\n",
            "RangeIndex: 3560 entries, 0 to 3559\n",
            "Data columns (total 18 columns):\n",
            " #   Column       Non-Null Count  Dtype  \n",
            "---  ------       --------------  -----  \n",
            " 0   a            3440 non-null   object \n",
            " 1   c            2919 non-null   object \n",
            " 2   nk           3440 non-null   float64\n",
            " 3   tz           3440 non-null   object \n",
            " 4   gr           2919 non-null   object \n",
            " 5   g            3440 non-null   object \n",
            " 6   h            3440 non-null   object \n",
            " 7   l            3440 non-null   object \n",
            " 8   al           3094 non-null   object \n",
            " 9   hh           3440 non-null   object \n",
            " 10  r            3440 non-null   object \n",
            " 11  u            3440 non-null   object \n",
            " 12  t            3440 non-null   float64\n",
            " 13  hc           3440 non-null   float64\n",
            " 14  cy           2919 non-null   object \n",
            " 15  ll           2919 non-null   object \n",
            " 16  _heartbeat_  120 non-null    float64\n",
            " 17  kw           93 non-null     object \n",
            "dtypes: float64(4), object(14)\n",
            "memory usage: 500.8+ KB\n"
          ]
        }
      ]
    },
    {
      "cell_type": "code",
      "source": [
        "frame[\"tz\"].head()"
      ],
      "metadata": {
        "colab": {
          "base_uri": "https://localhost:8080/",
          "height": 241
        },
        "id": "1eZb36JTemTJ",
        "outputId": "f6c113c2-3402-4186-bfd7-1b06b29a45cb"
      },
      "execution_count": 30,
      "outputs": [
        {
          "output_type": "execute_result",
          "data": {
            "text/plain": [
              "0     America/New_York\n",
              "1       America/Denver\n",
              "2     America/New_York\n",
              "3    America/Sao_Paulo\n",
              "4     America/New_York\n",
              "Name: tz, dtype: object"
            ],
            "text/html": [
              "<div>\n",
              "<style scoped>\n",
              "    .dataframe tbody tr th:only-of-type {\n",
              "        vertical-align: middle;\n",
              "    }\n",
              "\n",
              "    .dataframe tbody tr th {\n",
              "        vertical-align: top;\n",
              "    }\n",
              "\n",
              "    .dataframe thead th {\n",
              "        text-align: right;\n",
              "    }\n",
              "</style>\n",
              "<table border=\"1\" class=\"dataframe\">\n",
              "  <thead>\n",
              "    <tr style=\"text-align: right;\">\n",
              "      <th></th>\n",
              "      <th>tz</th>\n",
              "    </tr>\n",
              "  </thead>\n",
              "  <tbody>\n",
              "    <tr>\n",
              "      <th>0</th>\n",
              "      <td>America/New_York</td>\n",
              "    </tr>\n",
              "    <tr>\n",
              "      <th>1</th>\n",
              "      <td>America/Denver</td>\n",
              "    </tr>\n",
              "    <tr>\n",
              "      <th>2</th>\n",
              "      <td>America/New_York</td>\n",
              "    </tr>\n",
              "    <tr>\n",
              "      <th>3</th>\n",
              "      <td>America/Sao_Paulo</td>\n",
              "    </tr>\n",
              "    <tr>\n",
              "      <th>4</th>\n",
              "      <td>America/New_York</td>\n",
              "    </tr>\n",
              "  </tbody>\n",
              "</table>\n",
              "</div><br><label><b>dtype:</b> object</label>"
            ]
          },
          "metadata": {},
          "execution_count": 30
        }
      ]
    },
    {
      "cell_type": "markdown",
      "source": [
        "  - **View by each of Time Zones**"
      ],
      "metadata": {
        "id": "uHIU0wHje_8a"
      }
    },
    {
      "cell_type": "code",
      "source": [
        "tz_counts = frame[\"tz\"].value_counts()\n",
        "tz_counts.head()"
      ],
      "metadata": {
        "colab": {
          "base_uri": "https://localhost:8080/",
          "height": 272
        },
        "id": "Fa2Wa-2LfLJJ",
        "outputId": "fd2899c6-c6d8-4edf-8cd8-beefb565b1bc"
      },
      "execution_count": 31,
      "outputs": [
        {
          "output_type": "execute_result",
          "data": {
            "text/plain": [
              "tz\n",
              "America/New_York       1251\n",
              "                        521\n",
              "America/Chicago         400\n",
              "America/Los_Angeles     382\n",
              "America/Denver          191\n",
              "Name: count, dtype: int64"
            ],
            "text/html": [
              "<div>\n",
              "<style scoped>\n",
              "    .dataframe tbody tr th:only-of-type {\n",
              "        vertical-align: middle;\n",
              "    }\n",
              "\n",
              "    .dataframe tbody tr th {\n",
              "        vertical-align: top;\n",
              "    }\n",
              "\n",
              "    .dataframe thead th {\n",
              "        text-align: right;\n",
              "    }\n",
              "</style>\n",
              "<table border=\"1\" class=\"dataframe\">\n",
              "  <thead>\n",
              "    <tr style=\"text-align: right;\">\n",
              "      <th></th>\n",
              "      <th>count</th>\n",
              "    </tr>\n",
              "    <tr>\n",
              "      <th>tz</th>\n",
              "      <th></th>\n",
              "    </tr>\n",
              "  </thead>\n",
              "  <tbody>\n",
              "    <tr>\n",
              "      <th>America/New_York</th>\n",
              "      <td>1251</td>\n",
              "    </tr>\n",
              "    <tr>\n",
              "      <th></th>\n",
              "      <td>521</td>\n",
              "    </tr>\n",
              "    <tr>\n",
              "      <th>America/Chicago</th>\n",
              "      <td>400</td>\n",
              "    </tr>\n",
              "    <tr>\n",
              "      <th>America/Los_Angeles</th>\n",
              "      <td>382</td>\n",
              "    </tr>\n",
              "    <tr>\n",
              "      <th>America/Denver</th>\n",
              "      <td>191</td>\n",
              "    </tr>\n",
              "  </tbody>\n",
              "</table>\n",
              "</div><br><label><b>dtype:</b> int64</label>"
            ]
          },
          "metadata": {},
          "execution_count": 31
        }
      ]
    },
    {
      "cell_type": "markdown",
      "source": [
        "- **Visualized by matplotlib**"
      ],
      "metadata": {
        "id": "4sK7xlTMfkJV"
      }
    },
    {
      "cell_type": "code",
      "source": [
        "clean_tz = frame[\"tz\"].fillna(\"Missing\")\n",
        "\n",
        "clean_tz[clean_tz == \"\"] = \"Unknown\"\n",
        "\n",
        "tz_counts = clean_tz.value_counts()\n",
        "\n",
        "tz_counts[:10].plot(kind=\"barh\", rot=0)"
      ],
      "metadata": {
        "colab": {
          "base_uri": "https://localhost:8080/",
          "height": 447
        },
        "id": "LEKM5PZyfqQc",
        "outputId": "ad70f5da-8120-44f5-d2ff-3ecbe2b1b54d"
      },
      "execution_count": 32,
      "outputs": [
        {
          "output_type": "execute_result",
          "data": {
            "text/plain": [
              "<Axes: ylabel='tz'>"
            ]
          },
          "metadata": {},
          "execution_count": 32
        },
        {
          "output_type": "display_data",
          "data": {
            "text/plain": [
              "<Figure size 640x480 with 1 Axes>"
            ],
            "image/png": "[encoded data removed]"
          },
          "metadata": {}
        }
      ]
    },
    {
      "cell_type": "markdown",
      "source": [
        "- **Visualized by seaborn**"
      ],
      "metadata": {
        "id": "liny81kFf9sZ"
      }
    },
    {
      "cell_type": "code",
      "source": [
        "subset = tz_counts.head()\n",
        "\n",
        "sns.barplot(y=subset.index, x=subset.to_numpy(), palette=\"tab10\")"
      ],
      "metadata": {
        "colab": {
          "base_uri": "https://localhost:8080/",
          "height": 534
        },
        "id": "tfjLBKuxgC8e",
        "outputId": "55c0548c-4c4e-4abf-a042-3c3cbd181974"
      },
      "execution_count": 38,
      "outputs": [
        {
          "output_type": "stream",
          "name": "stderr",
          "text": [
            "/tmp/ipython-input-1433496981.py:3: FutureWarning: \n",
            "\n",
            "Passing `palette` without assigning `hue` is deprecated and will be removed in v0.14.0. Assign the `y` variable to `hue` and set `legend=False` for the same effect.\n",
            "\n",
            "  sns.barplot(y=subset.index, x=subset.to_numpy(), palette=\"tab10\")\n"
          ]
        },
        {
          "output_type": "execute_result",
          "data": {
            "text/plain": [
              "<Axes: ylabel='tz'>"
            ]
          },
          "metadata": {},
          "execution_count": 38
        },
        {
          "output_type": "display_data",
          "data": {
            "text/plain": [
              "<Figure size 640x480 with 1 Axes>"
            ],
            "image/png": "[encoded data removed]"
          },
          "metadata": {}
        }
      ]
    },
    {
      "cell_type": "markdown",
      "source": [
        "---"
      ],
      "metadata": {
        "id": "UcIxymfVzTPa"
      }
    },
    {
      "cell_type": "markdown",
      "source": [
        "3. XỬ LÝ DỮ LIỆU TRONG MIỀN a"
      ],
      "metadata": {
        "id": "brHLlPWryvZ5"
      }
    },
    {
      "cell_type": "code",
      "source": [
        "# Example data in a field\n",
        "frame[\"a\"][1]"
      ],
      "metadata": {
        "colab": {
          "base_uri": "https://localhost:8080/",
          "height": 35
        },
        "id": "Z3rWj2wazwea",
        "outputId": "bb368573-0ff1-4156-a353-574b06d31ad9"
      },
      "execution_count": 39,
      "outputs": [
        {
          "output_type": "execute_result",
          "data": {
            "text/plain": [
              "'GoogleMaps/RochesterNY'"
            ],
            "application/vnd.google.colaboratory.intrinsic+json": {
              "type": "string"
            }
          },
          "metadata": {},
          "execution_count": 39
        }
      ]
    },
    {
      "cell_type": "code",
      "source": [
        "frame[\"a\"][50]"
      ],
      "metadata": {
        "colab": {
          "base_uri": "https://localhost:8080/",
          "height": 35
        },
        "id": "HWZHEB2kz8xR",
        "outputId": "a74c7323-7644-4b7d-cf8a-e104df986886"
      },
      "execution_count": 40,
      "outputs": [
        {
          "output_type": "execute_result",
          "data": {
            "text/plain": [
              "'Mozilla/5.0 (Windows NT 5.1; rv:10.0.2) Gecko/20100101 Firefox/10.0.2'"
            ],
            "application/vnd.google.colaboratory.intrinsic+json": {
              "type": "string"
            }
          },
          "metadata": {},
          "execution_count": 40
        }
      ]
    },
    {
      "cell_type": "code",
      "source": [
        "frame[\"a\"][50][:50] # long line"
      ],
      "metadata": {
        "colab": {
          "base_uri": "https://localhost:8080/",
          "height": 35
        },
        "id": "L_twoOwn0DPr",
        "outputId": "0663f64a-8950-413f-dcd1-eb099a316a6f"
      },
      "execution_count": 41,
      "outputs": [
        {
          "output_type": "execute_result",
          "data": {
            "text/plain": [
              "'Mozilla/5.0 (Windows NT 5.1; rv:10.0.2) Gecko/2010'"
            ],
            "application/vnd.google.colaboratory.intrinsic+json": {
              "type": "string"
            }
          },
          "metadata": {},
          "execution_count": 41
        }
      ]
    },
    {
      "cell_type": "markdown",
      "source": [
        "- Ta có thể thấy trường dữ liệu \"a\" bao gồm rất nhiều thông tin như thiết bị, phiên bản ứng dụng hay browser truy cập vào bitly khi tạo đường dẫn rút gọn."
      ],
      "metadata": {
        "id": "7CHjD51m0MkQ"
      }
    },
    {
      "cell_type": "markdown",
      "source": [
        "- Tách đoạn ký tự đầu tiên và tổng hợp chúng làm thành một bộ miêu tả hành vi người dùng."
      ],
      "metadata": {
        "id": "QcDAtDtO0b5i"
      }
    },
    {
      "cell_type": "code",
      "source": [
        "# Split off the first token in the string\n",
        "results = pd.Series(x.split()[0] for x in frame.a.dropna())\n",
        "results.head(5)"
      ],
      "metadata": {
        "colab": {
          "base_uri": "https://localhost:8080/",
          "height": 241
        },
        "id": "TatcniRw0zsk",
        "outputId": "66eea1b2-6d77-4e99-b448-93c741c9d098"
      },
      "execution_count": 43,
      "outputs": [
        {
          "output_type": "execute_result",
          "data": {
            "text/plain": [
              "0               Mozilla/5.0\n",
              "1    GoogleMaps/RochesterNY\n",
              "2               Mozilla/4.0\n",
              "3               Mozilla/5.0\n",
              "4               Mozilla/5.0\n",
              "dtype: object"
            ],
            "text/html": [
              "<div>\n",
              "<style scoped>\n",
              "    .dataframe tbody tr th:only-of-type {\n",
              "        vertical-align: middle;\n",
              "    }\n",
              "\n",
              "    .dataframe tbody tr th {\n",
              "        vertical-align: top;\n",
              "    }\n",
              "\n",
              "    .dataframe thead th {\n",
              "        text-align: right;\n",
              "    }\n",
              "</style>\n",
              "<table border=\"1\" class=\"dataframe\">\n",
              "  <thead>\n",
              "    <tr style=\"text-align: right;\">\n",
              "      <th></th>\n",
              "      <th>0</th>\n",
              "    </tr>\n",
              "  </thead>\n",
              "  <tbody>\n",
              "    <tr>\n",
              "      <th>0</th>\n",
              "      <td>Mozilla/5.0</td>\n",
              "    </tr>\n",
              "    <tr>\n",
              "      <th>1</th>\n",
              "      <td>GoogleMaps/RochesterNY</td>\n",
              "    </tr>\n",
              "    <tr>\n",
              "      <th>2</th>\n",
              "      <td>Mozilla/4.0</td>\n",
              "    </tr>\n",
              "    <tr>\n",
              "      <th>3</th>\n",
              "      <td>Mozilla/5.0</td>\n",
              "    </tr>\n",
              "    <tr>\n",
              "      <th>4</th>\n",
              "      <td>Mozilla/5.0</td>\n",
              "    </tr>\n",
              "  </tbody>\n",
              "</table>\n",
              "</div><br><label><b>dtype:</b> object</label>"
            ]
          },
          "metadata": {},
          "execution_count": 43
        }
      ]
    },
    {
      "cell_type": "code",
      "source": [
        "# Counting\n",
        "results.value_counts()[:8]"
      ],
      "metadata": {
        "colab": {
          "base_uri": "https://localhost:8080/",
          "height": 335
        },
        "id": "1ododIU-1SrT",
        "outputId": "64c2d34e-e5ed-431f-d51c-eb219e58833c"
      },
      "execution_count": 44,
      "outputs": [
        {
          "output_type": "execute_result",
          "data": {
            "text/plain": [
              "Mozilla/5.0                 2594\n",
              "Mozilla/4.0                  601\n",
              "GoogleMaps/RochesterNY       121\n",
              "Opera/9.80                    34\n",
              "TEST_INTERNET_AGENT           24\n",
              "GoogleProducer                21\n",
              "Mozilla/6.0                    5\n",
              "BlackBerry8520/5.0.0.681       4\n",
              "Name: count, dtype: int64"
            ],
            "text/html": [
              "<div>\n",
              "<style scoped>\n",
              "    .dataframe tbody tr th:only-of-type {\n",
              "        vertical-align: middle;\n",
              "    }\n",
              "\n",
              "    .dataframe tbody tr th {\n",
              "        vertical-align: top;\n",
              "    }\n",
              "\n",
              "    .dataframe thead th {\n",
              "        text-align: right;\n",
              "    }\n",
              "</style>\n",
              "<table border=\"1\" class=\"dataframe\">\n",
              "  <thead>\n",
              "    <tr style=\"text-align: right;\">\n",
              "      <th></th>\n",
              "      <th>count</th>\n",
              "    </tr>\n",
              "  </thead>\n",
              "  <tbody>\n",
              "    <tr>\n",
              "      <th>Mozilla/5.0</th>\n",
              "      <td>2594</td>\n",
              "    </tr>\n",
              "    <tr>\n",
              "      <th>Mozilla/4.0</th>\n",
              "      <td>601</td>\n",
              "    </tr>\n",
              "    <tr>\n",
              "      <th>GoogleMaps/RochesterNY</th>\n",
              "      <td>121</td>\n",
              "    </tr>\n",
              "    <tr>\n",
              "      <th>Opera/9.80</th>\n",
              "      <td>34</td>\n",
              "    </tr>\n",
              "    <tr>\n",
              "      <th>TEST_INTERNET_AGENT</th>\n",
              "      <td>24</td>\n",
              "    </tr>\n",
              "    <tr>\n",
              "      <th>GoogleProducer</th>\n",
              "      <td>21</td>\n",
              "    </tr>\n",
              "    <tr>\n",
              "      <th>Mozilla/6.0</th>\n",
              "      <td>5</td>\n",
              "    </tr>\n",
              "    <tr>\n",
              "      <th>BlackBerry8520/5.0.0.681</th>\n",
              "      <td>4</td>\n",
              "    </tr>\n",
              "  </tbody>\n",
              "</table>\n",
              "</div><br><label><b>dtype:</b> int64</label>"
            ]
          },
          "metadata": {},
          "execution_count": 44
        }
      ]
    },
    {
      "cell_type": "markdown",
      "source": [
        "4. PHÂN TÍCH DỮ LIỆU TIMEZONE VÀ MIỀN a"
      ],
      "metadata": {
        "id": "w7YQ0UFi1ipY"
      }
    },
    {
      "cell_type": "markdown",
      "source": [
        "- Lọc dữ liệu missing trong miền a (phần đã tách ở mục 3)"
      ],
      "metadata": {
        "id": "7HJPXrCy2EMT"
      }
    },
    {
      "cell_type": "code",
      "source": [
        "cframe = frame[frame[\"a\"].notna()].copy()"
      ],
      "metadata": {
        "id": "tUJLFSx72xsG"
      },
      "execution_count": 45,
      "outputs": []
    },
    {
      "cell_type": "markdown",
      "source": [
        "- Phân vùng dữ liệu thành Window và Non-window"
      ],
      "metadata": {
        "id": "_fn4fIeG2829"
      }
    },
    {
      "cell_type": "code",
      "source": [
        "cframe[\"os\"] = np.where(cframe[\"a\"].str.contains(\"Windows\"), \"Windows\", \"Not Windows\")"
      ],
      "metadata": {
        "id": "QZatfNe53LmI"
      },
      "execution_count": 46,
      "outputs": []
    },
    {
      "cell_type": "code",
      "source": [
        "cframe[\"os\"].head(5)"
      ],
      "metadata": {
        "colab": {
          "base_uri": "https://localhost:8080/",
          "height": 241
        },
        "id": "pFppmUCX3XaZ",
        "outputId": "a975f3ff-b581-42f4-9270-bf2696387398"
      },
      "execution_count": 47,
      "outputs": [
        {
          "output_type": "execute_result",
          "data": {
            "text/plain": [
              "0        Windows\n",
              "1    Not Windows\n",
              "2        Windows\n",
              "3    Not Windows\n",
              "4        Windows\n",
              "Name: os, dtype: object"
            ],
            "text/html": [
              "<div>\n",
              "<style scoped>\n",
              "    .dataframe tbody tr th:only-of-type {\n",
              "        vertical-align: middle;\n",
              "    }\n",
              "\n",
              "    .dataframe tbody tr th {\n",
              "        vertical-align: top;\n",
              "    }\n",
              "\n",
              "    .dataframe thead th {\n",
              "        text-align: right;\n",
              "    }\n",
              "</style>\n",
              "<table border=\"1\" class=\"dataframe\">\n",
              "  <thead>\n",
              "    <tr style=\"text-align: right;\">\n",
              "      <th></th>\n",
              "      <th>os</th>\n",
              "    </tr>\n",
              "  </thead>\n",
              "  <tbody>\n",
              "    <tr>\n",
              "      <th>0</th>\n",
              "      <td>Windows</td>\n",
              "    </tr>\n",
              "    <tr>\n",
              "      <th>1</th>\n",
              "      <td>Not Windows</td>\n",
              "    </tr>\n",
              "    <tr>\n",
              "      <th>2</th>\n",
              "      <td>Windows</td>\n",
              "    </tr>\n",
              "    <tr>\n",
              "      <th>3</th>\n",
              "      <td>Not Windows</td>\n",
              "    </tr>\n",
              "    <tr>\n",
              "      <th>4</th>\n",
              "      <td>Windows</td>\n",
              "    </tr>\n",
              "  </tbody>\n",
              "</table>\n",
              "</div><br><label><b>dtype:</b> object</label>"
            ]
          },
          "metadata": {},
          "execution_count": 47
        }
      ]
    },
    {
      "cell_type": "markdown",
      "source": [
        "- Phân nhóm \"tz\" và \"os\""
      ],
      "metadata": {
        "id": "hBm-F6wZ3fWY"
      }
    },
    {
      "cell_type": "code",
      "source": [
        "by_tz_os = cframe.groupby([\"tz\", \"os\"])"
      ],
      "metadata": {
        "id": "HaeQ8yPb3m4f"
      },
      "execution_count": 48,
      "outputs": []
    },
    {
      "cell_type": "markdown",
      "source": [
        "- Đếm số nhóm"
      ],
      "metadata": {
        "id": "UOuTDZ1e35Hz"
      }
    },
    {
      "cell_type": "code",
      "source": [
        "agg_counts = by_tz_os.size().unstack().fillna(0)\n",
        "agg_counts.head()"
      ],
      "metadata": {
        "colab": {
          "base_uri": "https://localhost:8080/",
          "height": 238
        },
        "id": "JmUZyFZ64Tet",
        "outputId": "49a09f9c-3d25-4c97-ddce-1b57f9f64857"
      },
      "execution_count": 50,
      "outputs": [
        {
          "output_type": "execute_result",
          "data": {
            "text/plain": [
              "os                   Not Windows  Windows\n",
              "tz                                       \n",
              "                           245.0    276.0\n",
              "Africa/Cairo                 0.0      3.0\n",
              "Africa/Casablanca            0.0      1.0\n",
              "Africa/Ceuta                 0.0      2.0\n",
              "Africa/Johannesburg          0.0      1.0"
            ],
            "text/html": [
              "\n",
              "  <div id=\"df-dd3f5c07-9c4d-49d6-b4e0-582183a76e3a\" class=\"colab-df-container\">\n",
              "    <div>\n",
              "<style scoped>\n",
              "    .dataframe tbody tr th:only-of-type {\n",
              "        vertical-align: middle;\n",
              "    }\n",
              "\n",
              "    .dataframe tbody tr th {\n",
              "        vertical-align: top;\n",
              "    }\n",
              "\n",
              "    .dataframe thead th {\n",
              "        text-align: right;\n",
              "    }\n",
              "</style>\n",
              "<table border=\"1\" class=\"dataframe\">\n",
              "  <thead>\n",
              "    <tr style=\"text-align: right;\">\n",
              "      <th>os</th>\n",
              "      <th>Not Windows</th>\n",
              "      <th>Windows</th>\n",
              "    </tr>\n",
              "    <tr>\n",
              "      <th>tz</th>\n",
              "      <th></th>\n",
              "      <th></th>\n",
              "    </tr>\n",
              "  </thead>\n",
              "  <tbody>\n",
              "    <tr>\n",
              "      <th></th>\n",
              "      <td>245.0</td>\n",
              "      <td>276.0</td>\n",
              "    </tr>\n",
              "    <tr>\n",
              "      <th>Africa/Cairo</th>\n",
              "      <td>0.0</td>\n",
              "      <td>3.0</td>\n",
              "    </tr>\n",
              "    <tr>\n",
              "      <th>Africa/Casablanca</th>\n",
              "      <td>0.0</td>\n",
              "      <td>1.0</td>\n",
              "    </tr>\n",
              "    <tr>\n",
              "      <th>Africa/Ceuta</th>\n",
              "      <td>0.0</td>\n",
              "      <td>2.0</td>\n",
              "    </tr>\n",
              "    <tr>\n",
              "      <th>Africa/Johannesburg</th>\n",
              "      <td>0.0</td>\n",
              "      <td>1.0</td>\n",
              "    </tr>\n",
              "  </tbody>\n",
              "</table>\n",
              "</div>\n",
              "    <div class=\"colab-df-buttons\">\n",
              "\n",
              "  <div class=\"colab-df-container\">\n",
              "    <button class=\"colab-df-convert\" onclick=\"convertToInteractive('df-dd3f5c07-9c4d-49d6-b4e0-582183a76e3a')\"\n",
              "            title=\"Convert this dataframe to an interactive table.\"\n",
              "            style=\"display:none;\">\n",
              "\n",
              "  <svg xmlns=\"http://www.w3.org/2000/svg\" height=\"24px\" viewBox=\"0 -960 960 960\">\n",
              "    <path d=\"M120-120v-720h720v720H120Zm60-500h600v-160H180v160Zm220 220h160v-160H400v160Zm0 220h160v-160H400v160ZM180-400h160v-160H180v160Zm440 0h160v-160H620v160ZM180-180h160v-160H180v160Zm440 0h160v-160H620v160Z\"/>\n",
              "  </svg>\n",
              "    </button>\n",
              "\n",
              "  <style>\n",
              "    .colab-df-container {\n",
              "      display:flex;\n",
              "      gap: 12px;\n",
              "    }\n",
              "\n",
              "    .colab-df-convert {\n",
              "      background-color: #E8F0FE;\n",
              "      border: none;\n",
              "      border-radius: 50%;\n",
              "      cursor: pointer;\n",
              "      display: none;\n",
              "      fill: #1967D2;\n",
              "      height: 32px;\n",
              "      padding: 0 0 0 0;\n",
              "      width: 32px;\n",
              "    }\n",
              "\n",
              "    .colab-df-convert:hover {\n",
              "      background-color: #E2EBFA;\n",
              "      box-shadow: 0px 1px 2px rgba(60, 64, 67, 0.3), 0px 1px 3px 1px rgba(60, 64, 67, 0.15);\n",
              "      fill: #174EA6;\n",
              "    }\n",
              "\n",
              "    .colab-df-buttons div {\n",
              "      margin-bottom: 4px;\n",
              "    }\n",
              "\n",
              "    [theme=dark] .colab-df-convert {\n",
              "      background-color: #3B4455;\n",
              "      fill: #D2E3FC;\n",
              "    }\n",
              "\n",
              "    [theme=dark] .colab-df-convert:hover {\n",
              "      background-color: #434B5C;\n",
              "      box-shadow: 0px 1px 3px 1px rgba(0, 0, 0, 0.15);\n",
              "      filter: drop-shadow(0px 1px 2px rgba(0, 0, 0, 0.3));\n",
              "      fill: #FFFFFF;\n",
              "    }\n",
              "  </style>\n",
              "\n",
              "    <script>\n",
              "      const buttonEl =\n",
              "        document.querySelector('#df-dd3f5c07-9c4d-49d6-b4e0-582183a76e3a button.colab-df-convert');\n",
              "      buttonEl.style.display =\n",
              "        google.colab.kernel.accessAllowed ? 'block' : 'none';\n",
              "\n",
              "      async function convertToInteractive(key) {\n",
              "        const element = document.querySelector('#df-dd3f5c07-9c4d-49d6-b4e0-582183a76e3a');\n",
              "        const dataTable =\n",
              "          await google.colab.kernel.invokeFunction('convertToInteractive',\n",
              "                                                    [key], {});\n",
              "        if (!dataTable) return;\n",
              "\n",
              "        const docLinkHtml = 'Like what you see? Visit the ' +\n",
              "          '<a target=\"_blank\" href=https://colab.research.google.com/notebooks/data_table.ipynb>data table notebook</a>'\n",
              "          + ' to learn more about interactive tables.';\n",
              "        element.innerHTML = '';\n",
              "        dataTable['output_type'] = 'display_data';\n",
              "        await google.colab.output.renderOutput(dataTable, element);\n",
              "        const docLink = document.createElement('div');\n",
              "        docLink.innerHTML = docLinkHtml;\n",
              "        element.appendChild(docLink);\n",
              "      }\n",
              "    </script>\n",
              "  </div>\n",
              "\n",
              "\n",
              "    <div id=\"df-cd18bb32-2b4b-440b-aa3c-beea89602e1d\">\n",
              "      <button class=\"colab-df-quickchart\" onclick=\"quickchart('df-cd18bb32-2b4b-440b-aa3c-beea89602e1d')\"\n",
              "                title=\"Suggest charts\"\n",
              "                style=\"display:none;\">\n",
              "\n",
              "<svg xmlns=\"http://www.w3.org/2000/svg\" height=\"24px\"viewBox=\"0 0 24 24\"\n",
              "     width=\"24px\">\n",
              "    <g>\n",
              "        <path d=\"M19 3H5c-1.1 0-2 .9-2 2v14c0 1.1.9 2 2 2h14c1.1 0 2-.9 2-2V5c0-1.1-.9-2-2-2zM9 17H7v-7h2v7zm4 0h-2V7h2v10zm4 0h-2v-4h2v4z\"/>\n",
              "    </g>\n",
              "</svg>\n",
              "      </button>\n",
              "\n",
              "<style>\n",
              "  .colab-df-quickchart {\n",
              "      --bg-color: #E8F0FE;\n",
              "      --fill-color: #1967D2;\n",
              "      --hover-bg-color: #E2EBFA;\n",
              "      --hover-fill-color: #174EA6;\n",
              "      --disabled-fill-color: #AAA;\n",
              "      --disabled-bg-color: #DDD;\n",
              "  }\n",
              "\n",
              "  [theme=dark] .colab-df-quickchart {\n",
              "      --bg-color: #3B4455;\n",
              "      --fill-color: #D2E3FC;\n",
              "      --hover-bg-color: #434B5C;\n",
              "      --hover-fill-color: #FFFFFF;\n",
              "      --disabled-bg-color: #3B4455;\n",
              "      --disabled-fill-color: #666;\n",
              "  }\n",
              "\n",
              "  .colab-df-quickchart {\n",
              "    background-color: var(--bg-color);\n",
              "    border: none;\n",
              "    border-radius: 50%;\n",
              "    cursor: pointer;\n",
              "    display: none;\n",
              "    fill: var(--fill-color);\n",
              "    height: 32px;\n",
              "    padding: 0;\n",
              "    width: 32px;\n",
              "  }\n",
              "\n",
              "  .colab-df-quickchart:hover {\n",
              "    background-color: var(--hover-bg-color);\n",
              "    box-shadow: 0 1px 2px rgba(60, 64, 67, 0.3), 0 1px 3px 1px rgba(60, 64, 67, 0.15);\n",
              "    fill: var(--button-hover-fill-color);\n",
              "  }\n",
              "\n",
              "  .colab-df-quickchart-complete:disabled,\n",
              "  .colab-df-quickchart-complete:disabled:hover {\n",
              "    background-color: var(--disabled-bg-color);\n",
              "    fill: var(--disabled-fill-color);\n",
              "    box-shadow: none;\n",
              "  }\n",
              "\n",
              "  .colab-df-spinner {\n",
              "    border: 2px solid var(--fill-color);\n",
              "    border-color: transparent;\n",
              "    border-bottom-color: var(--fill-color);\n",
              "    animation:\n",
              "      spin 1s steps(1) infinite;\n",
              "  }\n",
              "\n",
              "  @keyframes spin {\n",
              "    0% {\n",
              "      border-color: transparent;\n",
              "      border-bottom-color: var(--fill-color);\n",
              "      border-left-color: var(--fill-color);\n",
              "    }\n",
              "    20% {\n",
              "      border-color: transparent;\n",
              "      border-left-color: var(--fill-color);\n",
              "      border-top-color: var(--fill-color);\n",
              "    }\n",
              "    30% {\n",
              "      border-color: transparent;\n",
              "      border-left-color: var(--fill-color);\n",
              "      border-top-color: var(--fill-color);\n",
              "      border-right-color: var(--fill-color);\n",
              "    }\n",
              "    40% {\n",
              "      border-color: transparent;\n",
              "      border-right-color: var(--fill-color);\n",
              "      border-top-color: var(--fill-color);\n",
              "    }\n",
              "    60% {\n",
              "      border-color: transparent;\n",
              "      border-right-color: var(--fill-color);\n",
              "    }\n",
              "    80% {\n",
              "      border-color: transparent;\n",
              "      border-right-color: var(--fill-color);\n",
              "      border-bottom-color: var(--fill-color);\n",
              "    }\n",
              "    90% {\n",
              "      border-color: transparent;\n",
              "      border-bottom-color: var(--fill-color);\n",
              "    }\n",
              "  }\n",
              "</style>\n",
              "\n",
              "      <script>\n",
              "        async function quickchart(key) {\n",
              "          const quickchartButtonEl =\n",
              "            document.querySelector('#' + key + ' button');\n",
              "          quickchartButtonEl.disabled = true;  // To prevent multiple clicks.\n",
              "          quickchartButtonEl.classList.add('colab-df-spinner');\n",
              "          try {\n",
              "            const charts = await google.colab.kernel.invokeFunction(\n",
              "                'suggestCharts', [key], {});\n",
              "          } catch (error) {\n",
              "            console.error('Error during call to suggestCharts:', error);\n",
              "          }\n",
              "          quickchartButtonEl.classList.remove('colab-df-spinner');\n",
              "          quickchartButtonEl.classList.add('colab-df-quickchart-complete');\n",
              "        }\n",
              "        (() => {\n",
              "          let quickchartButtonEl =\n",
              "            document.querySelector('#df-cd18bb32-2b4b-440b-aa3c-beea89602e1d button');\n",
              "          quickchartButtonEl.style.display =\n",
              "            google.colab.kernel.accessAllowed ? 'block' : 'none';\n",
              "        })();\n",
              "      </script>\n",
              "    </div>\n",
              "\n",
              "    </div>\n",
              "  </div>\n"
            ],
            "application/vnd.google.colaboratory.intrinsic+json": {
              "type": "dataframe",
              "variable_name": "agg_counts",
              "summary": "{\n  \"name\": \"agg_counts\",\n  \"rows\": 97,\n  \"fields\": [\n    {\n      \"column\": \"tz\",\n      \"properties\": {\n        \"dtype\": \"string\",\n        \"num_unique_values\": 97,\n        \"samples\": [\n          \"Australia/Queensland\",\n          \"Asia/Amman\",\n          \"Europe/Warsaw\"\n        ],\n        \"semantic_type\": \"\",\n        \"description\": \"\"\n      }\n    },\n    {\n      \"column\": \"Not Windows\",\n      \"properties\": {\n        \"dtype\": \"number\",\n        \"std\": 46.876024616522216,\n        \"min\": 0.0,\n        \"max\": 339.0,\n        \"num_unique_values\": 20,\n        \"samples\": [\n          245.0,\n          12.0,\n          6.0\n        ],\n        \"semantic_type\": \"\",\n        \"description\": \"\"\n      }\n    },\n    {\n      \"column\": \"Windows\",\n      \"properties\": {\n        \"dtype\": \"number\",\n        \"std\": 102.63419469632035,\n        \"min\": 0.0,\n        \"max\": 912.0,\n        \"num_unique_values\": 24,\n        \"samples\": [\n          12.0,\n          7.0,\n          276.0\n        ],\n        \"semantic_type\": \"\",\n        \"description\": \"\"\n      }\n    }\n  ]\n}"
            }
          },
          "metadata": {},
          "execution_count": 50
        }
      ]
    },
    {
      "cell_type": "markdown",
      "source": [
        "- Chọn top overall time zones"
      ],
      "metadata": {
        "id": "VA_hR61M4ZvW"
      }
    },
    {
      "cell_type": "code",
      "source": [
        "indexer = agg_counts.sum(\"columns\").argsort()\n",
        "indexer.values[:10]"
      ],
      "metadata": {
        "colab": {
          "base_uri": "https://localhost:8080/"
        },
        "id": "K-USRaHX4fr1",
        "outputId": "6d9ba302-cb89-4773-9e5b-bc7f9f368ebd"
      },
      "execution_count": 51,
      "outputs": [
        {
          "output_type": "execute_result",
          "data": {
            "text/plain": [
              "array([ 2,  7,  5,  4, 14, 11,  9,  8, 24, 26])"
            ]
          },
          "metadata": {},
          "execution_count": 51
        }
      ]
    },
    {
      "cell_type": "markdown",
      "source": [
        "- Kết quả thực hiện theo thứ tự"
      ],
      "metadata": {
        "id": "DEtFlDS_4p8k"
      }
    },
    {
      "cell_type": "code",
      "source": [
        "count_subset = agg_counts.take(indexer[-10:])\n",
        "count_subset"
      ],
      "metadata": {
        "colab": {
          "base_uri": "https://localhost:8080/",
          "height": 394
        },
        "id": "lGQCi2-N4zT0",
        "outputId": "e65ca2ae-95c8-4015-8302-4022a26ffde0"
      },
      "execution_count": 52,
      "outputs": [
        {
          "output_type": "execute_result",
          "data": {
            "text/plain": [
              "os                   Not Windows  Windows\n",
              "tz                                       \n",
              "America/Sao_Paulo           13.0     20.0\n",
              "Europe/Madrid               16.0     19.0\n",
              "Pacific/Honolulu             0.0     36.0\n",
              "Asia/Tokyo                   2.0     35.0\n",
              "Europe/London               43.0     31.0\n",
              "America/Denver             132.0     59.0\n",
              "America/Los_Angeles        130.0    252.0\n",
              "America/Chicago            115.0    285.0\n",
              "                           245.0    276.0\n",
              "America/New_York           339.0    912.0"
            ],
            "text/html": [
              "\n",
              "  <div id=\"df-d4733073-83bd-44e9-ac1b-aefe607e5fe1\" class=\"colab-df-container\">\n",
              "    <div>\n",
              "<style scoped>\n",
              "    .dataframe tbody tr th:only-of-type {\n",
              "        vertical-align: middle;\n",
              "    }\n",
              "\n",
              "    .dataframe tbody tr th {\n",
              "        vertical-align: top;\n",
              "    }\n",
              "\n",
              "    .dataframe thead th {\n",
              "        text-align: right;\n",
              "    }\n",
              "</style>\n",
              "<table border=\"1\" class=\"dataframe\">\n",
              "  <thead>\n",
              "    <tr style=\"text-align: right;\">\n",
              "      <th>os</th>\n",
              "      <th>Not Windows</th>\n",
              "      <th>Windows</th>\n",
              "    </tr>\n",
              "    <tr>\n",
              "      <th>tz</th>\n",
              "      <th></th>\n",
              "      <th></th>\n",
              "    </tr>\n",
              "  </thead>\n",
              "  <tbody>\n",
              "    <tr>\n",
              "      <th>America/Sao_Paulo</th>\n",
              "      <td>13.0</td>\n",
              "      <td>20.0</td>\n",
              "    </tr>\n",
              "    <tr>\n",
              "      <th>Europe/Madrid</th>\n",
              "      <td>16.0</td>\n",
              "      <td>19.0</td>\n",
              "    </tr>\n",
              "    <tr>\n",
              "      <th>Pacific/Honolulu</th>\n",
              "      <td>0.0</td>\n",
              "      <td>36.0</td>\n",
              "    </tr>\n",
              "    <tr>\n",
              "      <th>Asia/Tokyo</th>\n",
              "      <td>2.0</td>\n",
              "      <td>35.0</td>\n",
              "    </tr>\n",
              "    <tr>\n",
              "      <th>Europe/London</th>\n",
              "      <td>43.0</td>\n",
              "      <td>31.0</td>\n",
              "    </tr>\n",
              "    <tr>\n",
              "      <th>America/Denver</th>\n",
              "      <td>132.0</td>\n",
              "      <td>59.0</td>\n",
              "    </tr>\n",
              "    <tr>\n",
              "      <th>America/Los_Angeles</th>\n",
              "      <td>130.0</td>\n",
              "      <td>252.0</td>\n",
              "    </tr>\n",
              "    <tr>\n",
              "      <th>America/Chicago</th>\n",
              "      <td>115.0</td>\n",
              "      <td>285.0</td>\n",
              "    </tr>\n",
              "    <tr>\n",
              "      <th></th>\n",
              "      <td>245.0</td>\n",
              "      <td>276.0</td>\n",
              "    </tr>\n",
              "    <tr>\n",
              "      <th>America/New_York</th>\n",
              "      <td>339.0</td>\n",
              "      <td>912.0</td>\n",
              "    </tr>\n",
              "  </tbody>\n",
              "</table>\n",
              "</div>\n",
              "    <div class=\"colab-df-buttons\">\n",
              "\n",
              "  <div class=\"colab-df-container\">\n",
              "    <button class=\"colab-df-convert\" onclick=\"convertToInteractive('df-d4733073-83bd-44e9-ac1b-aefe607e5fe1')\"\n",
              "            title=\"Convert this dataframe to an interactive table.\"\n",
              "            style=\"display:none;\">\n",
              "\n",
              "  <svg xmlns=\"http://www.w3.org/2000/svg\" height=\"24px\" viewBox=\"0 -960 960 960\">\n",
              "    <path d=\"M120-120v-720h720v720H120Zm60-500h600v-160H180v160Zm220 220h160v-160H400v160Zm0 220h160v-160H400v160ZM180-400h160v-160H180v160Zm440 0h160v-160H620v160ZM180-180h160v-160H180v160Zm440 0h160v-160H620v160Z\"/>\n",
              "  </svg>\n",
              "    </button>\n",
              "\n",
              "  <style>\n",
              "    .colab-df-container {\n",
              "      display:flex;\n",
              "      gap: 12px;\n",
              "    }\n",
              "\n",
              "    .colab-df-convert {\n",
              "      background-color: #E8F0FE;\n",
              "      border: none;\n",
              "      border-radius: 50%;\n",
              "      cursor: pointer;\n",
              "      display: none;\n",
              "      fill: #1967D2;\n",
              "      height: 32px;\n",
              "      padding: 0 0 0 0;\n",
              "      width: 32px;\n",
              "    }\n",
              "\n",
              "    .colab-df-convert:hover {\n",
              "      background-color: #E2EBFA;\n",
              "      box-shadow: 0px 1px 2px rgba(60, 64, 67, 0.3), 0px 1px 3px 1px rgba(60, 64, 67, 0.15);\n",
              "      fill: #174EA6;\n",
              "    }\n",
              "\n",
              "    .colab-df-buttons div {\n",
              "      margin-bottom: 4px;\n",
              "    }\n",
              "\n",
              "    [theme=dark] .colab-df-convert {\n",
              "      background-color: #3B4455;\n",
              "      fill: #D2E3FC;\n",
              "    }\n",
              "\n",
              "    [theme=dark] .colab-df-convert:hover {\n",
              "      background-color: #434B5C;\n",
              "      box-shadow: 0px 1px 3px 1px rgba(0, 0, 0, 0.15);\n",
              "      filter: drop-shadow(0px 1px 2px rgba(0, 0, 0, 0.3));\n",
              "      fill: #FFFFFF;\n",
              "    }\n",
              "  </style>\n",
              "\n",
              "    <script>\n",
              "      const buttonEl =\n",
              "        document.querySelector('#df-d4733073-83bd-44e9-ac1b-aefe607e5fe1 button.colab-df-convert');\n",
              "      buttonEl.style.display =\n",
              "        google.colab.kernel.accessAllowed ? 'block' : 'none';\n",
              "\n",
              "      async function convertToInteractive(key) {\n",
              "        const element = document.querySelector('#df-d4733073-83bd-44e9-ac1b-aefe607e5fe1');\n",
              "        const dataTable =\n",
              "          await google.colab.kernel.invokeFunction('convertToInteractive',\n",
              "                                                    [key], {});\n",
              "        if (!dataTable) return;\n",
              "\n",
              "        const docLinkHtml = 'Like what you see? Visit the ' +\n",
              "          '<a target=\"_blank\" href=https://colab.research.google.com/notebooks/data_table.ipynb>data table notebook</a>'\n",
              "          + ' to learn more about interactive tables.';\n",
              "        element.innerHTML = '';\n",
              "        dataTable['output_type'] = 'display_data';\n",
              "        await google.colab.output.renderOutput(dataTable, element);\n",
              "        const docLink = document.createElement('div');\n",
              "        docLink.innerHTML = docLinkHtml;\n",
              "        element.appendChild(docLink);\n",
              "      }\n",
              "    </script>\n",
              "  </div>\n",
              "\n",
              "\n",
              "    <div id=\"df-d59e7ca8-a971-4ff6-9ebd-0001eb8e033d\">\n",
              "      <button class=\"colab-df-quickchart\" onclick=\"quickchart('df-d59e7ca8-a971-4ff6-9ebd-0001eb8e033d')\"\n",
              "                title=\"Suggest charts\"\n",
              "                style=\"display:none;\">\n",
              "\n",
              "<svg xmlns=\"http://www.w3.org/2000/svg\" height=\"24px\"viewBox=\"0 0 24 24\"\n",
              "     width=\"24px\">\n",
              "    <g>\n",
              "        <path d=\"M19 3H5c-1.1 0-2 .9-2 2v14c0 1.1.9 2 2 2h14c1.1 0 2-.9 2-2V5c0-1.1-.9-2-2-2zM9 17H7v-7h2v7zm4 0h-2V7h2v10zm4 0h-2v-4h2v4z\"/>\n",
              "    </g>\n",
              "</svg>\n",
              "      </button>\n",
              "\n",
              "<style>\n",
              "  .colab-df-quickchart {\n",
              "      --bg-color: #E8F0FE;\n",
              "      --fill-color: #1967D2;\n",
              "      --hover-bg-color: #E2EBFA;\n",
              "      --hover-fill-color: #174EA6;\n",
              "      --disabled-fill-color: #AAA;\n",
              "      --disabled-bg-color: #DDD;\n",
              "  }\n",
              "\n",
              "  [theme=dark] .colab-df-quickchart {\n",
              "      --bg-color: #3B4455;\n",
              "      --fill-color: #D2E3FC;\n",
              "      --hover-bg-color: #434B5C;\n",
              "      --hover-fill-color: #FFFFFF;\n",
              "      --disabled-bg-color: #3B4455;\n",
              "      --disabled-fill-color: #666;\n",
              "  }\n",
              "\n",
              "  .colab-df-quickchart {\n",
              "    background-color: var(--bg-color);\n",
              "    border: none;\n",
              "    border-radius: 50%;\n",
              "    cursor: pointer;\n",
              "    display: none;\n",
              "    fill: var(--fill-color);\n",
              "    height: 32px;\n",
              "    padding: 0;\n",
              "    width: 32px;\n",
              "  }\n",
              "\n",
              "  .colab-df-quickchart:hover {\n",
              "    background-color: var(--hover-bg-color);\n",
              "    box-shadow: 0 1px 2px rgba(60, 64, 67, 0.3), 0 1px 3px 1px rgba(60, 64, 67, 0.15);\n",
              "    fill: var(--button-hover-fill-color);\n",
              "  }\n",
              "\n",
              "  .colab-df-quickchart-complete:disabled,\n",
              "  .colab-df-quickchart-complete:disabled:hover {\n",
              "    background-color: var(--disabled-bg-color);\n",
              "    fill: var(--disabled-fill-color);\n",
              "    box-shadow: none;\n",
              "  }\n",
              "\n",
              "  .colab-df-spinner {\n",
              "    border: 2px solid var(--fill-color);\n",
              "    border-color: transparent;\n",
              "    border-bottom-color: var(--fill-color);\n",
              "    animation:\n",
              "      spin 1s steps(1) infinite;\n",
              "  }\n",
              "\n",
              "  @keyframes spin {\n",
              "    0% {\n",
              "      border-color: transparent;\n",
              "      border-bottom-color: var(--fill-color);\n",
              "      border-left-color: var(--fill-color);\n",
              "    }\n",
              "    20% {\n",
              "      border-color: transparent;\n",
              "      border-left-color: var(--fill-color);\n",
              "      border-top-color: var(--fill-color);\n",
              "    }\n",
              "    30% {\n",
              "      border-color: transparent;\n",
              "      border-left-color: var(--fill-color);\n",
              "      border-top-color: var(--fill-color);\n",
              "      border-right-color: var(--fill-color);\n",
              "    }\n",
              "    40% {\n",
              "      border-color: transparent;\n",
              "      border-right-color: var(--fill-color);\n",
              "      border-top-color: var(--fill-color);\n",
              "    }\n",
              "    60% {\n",
              "      border-color: transparent;\n",
              "      border-right-color: var(--fill-color);\n",
              "    }\n",
              "    80% {\n",
              "      border-color: transparent;\n",
              "      border-right-color: var(--fill-color);\n",
              "      border-bottom-color: var(--fill-color);\n",
              "    }\n",
              "    90% {\n",
              "      border-color: transparent;\n",
              "      border-bottom-color: var(--fill-color);\n",
              "    }\n",
              "  }\n",
              "</style>\n",
              "\n",
              "      <script>\n",
              "        async function quickchart(key) {\n",
              "          const quickchartButtonEl =\n",
              "            document.querySelector('#' + key + ' button');\n",
              "          quickchartButtonEl.disabled = true;  // To prevent multiple clicks.\n",
              "          quickchartButtonEl.classList.add('colab-df-spinner');\n",
              "          try {\n",
              "            const charts = await google.colab.kernel.invokeFunction(\n",
              "                'suggestCharts', [key], {});\n",
              "          } catch (error) {\n",
              "            console.error('Error during call to suggestCharts:', error);\n",
              "          }\n",
              "          quickchartButtonEl.classList.remove('colab-df-spinner');\n",
              "          quickchartButtonEl.classList.add('colab-df-quickchart-complete');\n",
              "        }\n",
              "        (() => {\n",
              "          let quickchartButtonEl =\n",
              "            document.querySelector('#df-d59e7ca8-a971-4ff6-9ebd-0001eb8e033d button');\n",
              "          quickchartButtonEl.style.display =\n",
              "            google.colab.kernel.accessAllowed ? 'block' : 'none';\n",
              "        })();\n",
              "      </script>\n",
              "    </div>\n",
              "\n",
              "  <div id=\"id_2386adf3-9db8-4a6c-ad4c-e1e8c0309b5a\">\n",
              "    <style>\n",
              "      .colab-df-generate {\n",
              "        background-color: #E8F0FE;\n",
              "        border: none;\n",
              "        border-radius: 50%;\n",
              "        cursor: pointer;\n",
              "        display: none;\n",
              "        fill: #1967D2;\n",
              "        height: 32px;\n",
              "        padding: 0 0 0 0;\n",
              "        width: 32px;\n",
              "      }\n",
              "\n",
              "      .colab-df-generate:hover {\n",
              "        background-color: #E2EBFA;\n",
              "        box-shadow: 0px 1px 2px rgba(60, 64, 67, 0.3), 0px 1px 3px 1px rgba(60, 64, 67, 0.15);\n",
              "        fill: #174EA6;\n",
              "      }\n",
              "\n",
              "      [theme=dark] .colab-df-generate {\n",
              "        background-color: #3B4455;\n",
              "        fill: #D2E3FC;\n",
              "      }\n",
              "\n",
              "      [theme=dark] .colab-df-generate:hover {\n",
              "        background-color: #434B5C;\n",
              "        box-shadow: 0px 1px 3px 1px rgba(0, 0, 0, 0.15);\n",
              "        filter: drop-shadow(0px 1px 2px rgba(0, 0, 0, 0.3));\n",
              "        fill: #FFFFFF;\n",
              "      }\n",
              "    </style>\n",
              "    <button class=\"colab-df-generate\" onclick=\"generateWithVariable('count_subset')\"\n",
              "            title=\"Generate code using this dataframe.\"\n",
              "            style=\"display:none;\">\n",
              "\n",
              "  <svg xmlns=\"http://www.w3.org/2000/svg\" height=\"24px\"viewBox=\"0 0 24 24\"\n",
              "       width=\"24px\">\n",
              "    <path d=\"M7,19H8.4L18.45,9,17,7.55,7,17.6ZM5,21V16.75L18.45,3.32a2,2,0,0,1,2.83,0l1.4,1.43a1.91,1.91,0,0,1,.58,1.4,1.91,1.91,0,0,1-.58,1.4L9.25,21ZM18.45,9,17,7.55Zm-12,3A5.31,5.31,0,0,0,4.9,8.1,5.31,5.31,0,0,0,1,6.5,5.31,5.31,0,0,0,4.9,4.9,5.31,5.31,0,0,0,6.5,1,5.31,5.31,0,0,0,8.1,4.9,5.31,5.31,0,0,0,12,6.5,5.46,5.46,0,0,0,6.5,12Z\"/>\n",
              "  </svg>\n",
              "    </button>\n",
              "    <script>\n",
              "      (() => {\n",
              "      const buttonEl =\n",
              "        document.querySelector('#id_2386adf3-9db8-4a6c-ad4c-e1e8c0309b5a button.colab-df-generate');\n",
              "      buttonEl.style.display =\n",
              "        google.colab.kernel.accessAllowed ? 'block' : 'none';\n",
              "\n",
              "      buttonEl.onclick = () => {\n",
              "        google.colab.notebook.generateWithVariable('count_subset');\n",
              "      }\n",
              "      })();\n",
              "    </script>\n",
              "  </div>\n",
              "\n",
              "    </div>\n",
              "  </div>\n"
            ],
            "application/vnd.google.colaboratory.intrinsic+json": {
              "type": "dataframe",
              "variable_name": "count_subset",
              "summary": "{\n  \"name\": \"count_subset\",\n  \"rows\": 10,\n  \"fields\": [\n    {\n      \"column\": \"tz\",\n      \"properties\": {\n        \"dtype\": \"string\",\n        \"num_unique_values\": 10,\n        \"samples\": [\n          \"\",\n          \"Europe/Madrid\",\n          \"America/Denver\"\n        ],\n        \"semantic_type\": \"\",\n        \"description\": \"\"\n      }\n    },\n    {\n      \"column\": \"Not Windows\",\n      \"properties\": {\n        \"dtype\": \"number\",\n        \"std\": 114.3340621939839,\n        \"min\": 0.0,\n        \"max\": 339.0,\n        \"num_unique_values\": 10,\n        \"samples\": [\n          245.0,\n          16.0,\n          132.0\n        ],\n        \"semantic_type\": \"\",\n        \"description\": \"\"\n      }\n    },\n    {\n      \"column\": \"Windows\",\n      \"properties\": {\n        \"dtype\": \"number\",\n        \"std\": 276.84943762108514,\n        \"min\": 19.0,\n        \"max\": 912.0,\n        \"num_unique_values\": 10,\n        \"samples\": [\n          276.0,\n          19.0,\n          59.0\n        ],\n        \"semantic_type\": \"\",\n        \"description\": \"\"\n      }\n    }\n  ]\n}"
            }
          },
          "metadata": {},
          "execution_count": 52
        }
      ]
    },
    {
      "cell_type": "markdown",
      "source": [
        "- Thực hiện với pandas nlargest"
      ],
      "metadata": {
        "id": "GDsoa93r5ENX"
      }
    },
    {
      "cell_type": "code",
      "source": [
        "agg_counts.sum(axis=\"columns\").nlargest(10)"
      ],
      "metadata": {
        "colab": {
          "base_uri": "https://localhost:8080/",
          "height": 429
        },
        "id": "GHowzi1J48a7",
        "outputId": "a0e9479e-3b44-40f8-f821-55bccd2536ff"
      },
      "execution_count": 53,
      "outputs": [
        {
          "output_type": "execute_result",
          "data": {
            "text/plain": [
              "tz\n",
              "America/New_York       1251.0\n",
              "                        521.0\n",
              "America/Chicago         400.0\n",
              "America/Los_Angeles     382.0\n",
              "America/Denver          191.0\n",
              "Europe/London            74.0\n",
              "Asia/Tokyo               37.0\n",
              "Pacific/Honolulu         36.0\n",
              "Europe/Madrid            35.0\n",
              "America/Sao_Paulo        33.0\n",
              "dtype: float64"
            ],
            "text/html": [
              "<div>\n",
              "<style scoped>\n",
              "    .dataframe tbody tr th:only-of-type {\n",
              "        vertical-align: middle;\n",
              "    }\n",
              "\n",
              "    .dataframe tbody tr th {\n",
              "        vertical-align: top;\n",
              "    }\n",
              "\n",
              "    .dataframe thead th {\n",
              "        text-align: right;\n",
              "    }\n",
              "</style>\n",
              "<table border=\"1\" class=\"dataframe\">\n",
              "  <thead>\n",
              "    <tr style=\"text-align: right;\">\n",
              "      <th></th>\n",
              "      <th>0</th>\n",
              "    </tr>\n",
              "    <tr>\n",
              "      <th>tz</th>\n",
              "      <th></th>\n",
              "    </tr>\n",
              "  </thead>\n",
              "  <tbody>\n",
              "    <tr>\n",
              "      <th>America/New_York</th>\n",
              "      <td>1251.0</td>\n",
              "    </tr>\n",
              "    <tr>\n",
              "      <th></th>\n",
              "      <td>521.0</td>\n",
              "    </tr>\n",
              "    <tr>\n",
              "      <th>America/Chicago</th>\n",
              "      <td>400.0</td>\n",
              "    </tr>\n",
              "    <tr>\n",
              "      <th>America/Los_Angeles</th>\n",
              "      <td>382.0</td>\n",
              "    </tr>\n",
              "    <tr>\n",
              "      <th>America/Denver</th>\n",
              "      <td>191.0</td>\n",
              "    </tr>\n",
              "    <tr>\n",
              "      <th>Europe/London</th>\n",
              "      <td>74.0</td>\n",
              "    </tr>\n",
              "    <tr>\n",
              "      <th>Asia/Tokyo</th>\n",
              "      <td>37.0</td>\n",
              "    </tr>\n",
              "    <tr>\n",
              "      <th>Pacific/Honolulu</th>\n",
              "      <td>36.0</td>\n",
              "    </tr>\n",
              "    <tr>\n",
              "      <th>Europe/Madrid</th>\n",
              "      <td>35.0</td>\n",
              "    </tr>\n",
              "    <tr>\n",
              "      <th>America/Sao_Paulo</th>\n",
              "      <td>33.0</td>\n",
              "    </tr>\n",
              "  </tbody>\n",
              "</table>\n",
              "</div><br><label><b>dtype:</b> float64</label>"
            ]
          },
          "metadata": {},
          "execution_count": 53
        }
      ]
    },
    {
      "cell_type": "markdown",
      "source": [
        "- Sắp xếp lại bộ dữ liệu cho tương thích với seaborn"
      ],
      "metadata": {
        "id": "QN3V87ue5R59"
      }
    },
    {
      "cell_type": "code",
      "source": [
        "count_subset = count_subset.stack()\n",
        "\n",
        "count_subset.name = \"total\"\n",
        "\n",
        "count_subset = count_subset.reset_index()\n",
        "count_subset.head(10)"
      ],
      "metadata": {
        "colab": {
          "base_uri": "https://localhost:8080/",
          "height": 363
        },
        "id": "d0mZ0IWr5WTs",
        "outputId": "bfe92677-179a-4342-c11b-a795cf36cf02"
      },
      "execution_count": 54,
      "outputs": [
        {
          "output_type": "execute_result",
          "data": {
            "text/plain": [
              "                  tz           os  total\n",
              "0  America/Sao_Paulo  Not Windows   13.0\n",
              "1  America/Sao_Paulo      Windows   20.0\n",
              "2      Europe/Madrid  Not Windows   16.0\n",
              "3      Europe/Madrid      Windows   19.0\n",
              "4   Pacific/Honolulu  Not Windows    0.0\n",
              "5   Pacific/Honolulu      Windows   36.0\n",
              "6         Asia/Tokyo  Not Windows    2.0\n",
              "7         Asia/Tokyo      Windows   35.0\n",
              "8      Europe/London  Not Windows   43.0\n",
              "9      Europe/London      Windows   31.0"
            ],
            "text/html": [
              "\n",
              "  <div id=\"df-b5252a41-18c6-4a8f-96aa-5d712af3aeb6\" class=\"colab-df-container\">\n",
              "    <div>\n",
              "<style scoped>\n",
              "    .dataframe tbody tr th:only-of-type {\n",
              "        vertical-align: middle;\n",
              "    }\n",
              "\n",
              "    .dataframe tbody tr th {\n",
              "        vertical-align: top;\n",
              "    }\n",
              "\n",
              "    .dataframe thead th {\n",
              "        text-align: right;\n",
              "    }\n",
              "</style>\n",
              "<table border=\"1\" class=\"dataframe\">\n",
              "  <thead>\n",
              "    <tr style=\"text-align: right;\">\n",
              "      <th></th>\n",
              "      <th>tz</th>\n",
              "      <th>os</th>\n",
              "      <th>total</th>\n",
              "    </tr>\n",
              "  </thead>\n",
              "  <tbody>\n",
              "    <tr>\n",
              "      <th>0</th>\n",
              "      <td>America/Sao_Paulo</td>\n",
              "      <td>Not Windows</td>\n",
              "      <td>13.0</td>\n",
              "    </tr>\n",
              "    <tr>\n",
              "      <th>1</th>\n",
              "      <td>America/Sao_Paulo</td>\n",
              "      <td>Windows</td>\n",
              "      <td>20.0</td>\n",
              "    </tr>\n",
              "    <tr>\n",
              "      <th>2</th>\n",
              "      <td>Europe/Madrid</td>\n",
              "      <td>Not Windows</td>\n",
              "      <td>16.0</td>\n",
              "    </tr>\n",
              "    <tr>\n",
              "      <th>3</th>\n",
              "      <td>Europe/Madrid</td>\n",
              "      <td>Windows</td>\n",
              "      <td>19.0</td>\n",
              "    </tr>\n",
              "    <tr>\n",
              "      <th>4</th>\n",
              "      <td>Pacific/Honolulu</td>\n",
              "      <td>Not Windows</td>\n",
              "      <td>0.0</td>\n",
              "    </tr>\n",
              "    <tr>\n",
              "      <th>5</th>\n",
              "      <td>Pacific/Honolulu</td>\n",
              "      <td>Windows</td>\n",
              "      <td>36.0</td>\n",
              "    </tr>\n",
              "    <tr>\n",
              "      <th>6</th>\n",
              "      <td>Asia/Tokyo</td>\n",
              "      <td>Not Windows</td>\n",
              "      <td>2.0</td>\n",
              "    </tr>\n",
              "    <tr>\n",
              "      <th>7</th>\n",
              "      <td>Asia/Tokyo</td>\n",
              "      <td>Windows</td>\n",
              "      <td>35.0</td>\n",
              "    </tr>\n",
              "    <tr>\n",
              "      <th>8</th>\n",
              "      <td>Europe/London</td>\n",
              "      <td>Not Windows</td>\n",
              "      <td>43.0</td>\n",
              "    </tr>\n",
              "    <tr>\n",
              "      <th>9</th>\n",
              "      <td>Europe/London</td>\n",
              "      <td>Windows</td>\n",
              "      <td>31.0</td>\n",
              "    </tr>\n",
              "  </tbody>\n",
              "</table>\n",
              "</div>\n",
              "    <div class=\"colab-df-buttons\">\n",
              "\n",
              "  <div class=\"colab-df-container\">\n",
              "    <button class=\"colab-df-convert\" onclick=\"convertToInteractive('df-b5252a41-18c6-4a8f-96aa-5d712af3aeb6')\"\n",
              "            title=\"Convert this dataframe to an interactive table.\"\n",
              "            style=\"display:none;\">\n",
              "\n",
              "  <svg xmlns=\"http://www.w3.org/2000/svg\" height=\"24px\" viewBox=\"0 -960 960 960\">\n",
              "    <path d=\"M120-120v-720h720v720H120Zm60-500h600v-160H180v160Zm220 220h160v-160H400v160Zm0 220h160v-160H400v160ZM180-400h160v-160H180v160Zm440 0h160v-160H620v160ZM180-180h160v-160H180v160Zm440 0h160v-160H620v160Z\"/>\n",
              "  </svg>\n",
              "    </button>\n",
              "\n",
              "  <style>\n",
              "    .colab-df-container {\n",
              "      display:flex;\n",
              "      gap: 12px;\n",
              "    }\n",
              "\n",
              "    .colab-df-convert {\n",
              "      background-color: #E8F0FE;\n",
              "      border: none;\n",
              "      border-radius: 50%;\n",
              "      cursor: pointer;\n",
              "      display: none;\n",
              "      fill: #1967D2;\n",
              "      height: 32px;\n",
              "      padding: 0 0 0 0;\n",
              "      width: 32px;\n",
              "    }\n",
              "\n",
              "    .colab-df-convert:hover {\n",
              "      background-color: #E2EBFA;\n",
              "      box-shadow: 0px 1px 2px rgba(60, 64, 67, 0.3), 0px 1px 3px 1px rgba(60, 64, 67, 0.15);\n",
              "      fill: #174EA6;\n",
              "    }\n",
              "\n",
              "    .colab-df-buttons div {\n",
              "      margin-bottom: 4px;\n",
              "    }\n",
              "\n",
              "    [theme=dark] .colab-df-convert {\n",
              "      background-color: #3B4455;\n",
              "      fill: #D2E3FC;\n",
              "    }\n",
              "\n",
              "    [theme=dark] .colab-df-convert:hover {\n",
              "      background-color: #434B5C;\n",
              "      box-shadow: 0px 1px 3px 1px rgba(0, 0, 0, 0.15);\n",
              "      filter: drop-shadow(0px 1px 2px rgba(0, 0, 0, 0.3));\n",
              "      fill: #FFFFFF;\n",
              "    }\n",
              "  </style>\n",
              "\n",
              "    <script>\n",
              "      const buttonEl =\n",
              "        document.querySelector('#df-b5252a41-18c6-4a8f-96aa-5d712af3aeb6 button.colab-df-convert');\n",
              "      buttonEl.style.display =\n",
              "        google.colab.kernel.accessAllowed ? 'block' : 'none';\n",
              "\n",
              "      async function convertToInteractive(key) {\n",
              "        const element = document.querySelector('#df-b5252a41-18c6-4a8f-96aa-5d712af3aeb6');\n",
              "        const dataTable =\n",
              "          await google.colab.kernel.invokeFunction('convertToInteractive',\n",
              "                                                    [key], {});\n",
              "        if (!dataTable) return;\n",
              "\n",
              "        const docLinkHtml = 'Like what you see? Visit the ' +\n",
              "          '<a target=\"_blank\" href=https://colab.research.google.com/notebooks/data_table.ipynb>data table notebook</a>'\n",
              "          + ' to learn more about interactive tables.';\n",
              "        element.innerHTML = '';\n",
              "        dataTable['output_type'] = 'display_data';\n",
              "        await google.colab.output.renderOutput(dataTable, element);\n",
              "        const docLink = document.createElement('div');\n",
              "        docLink.innerHTML = docLinkHtml;\n",
              "        element.appendChild(docLink);\n",
              "      }\n",
              "    </script>\n",
              "  </div>\n",
              "\n",
              "\n",
              "    <div id=\"df-5f3c1b2d-539a-4ab6-ace1-c779a018b9da\">\n",
              "      <button class=\"colab-df-quickchart\" onclick=\"quickchart('df-5f3c1b2d-539a-4ab6-ace1-c779a018b9da')\"\n",
              "                title=\"Suggest charts\"\n",
              "                style=\"display:none;\">\n",
              "\n",
              "<svg xmlns=\"http://www.w3.org/2000/svg\" height=\"24px\"viewBox=\"0 0 24 24\"\n",
              "     width=\"24px\">\n",
              "    <g>\n",
              "        <path d=\"M19 3H5c-1.1 0-2 .9-2 2v14c0 1.1.9 2 2 2h14c1.1 0 2-.9 2-2V5c0-1.1-.9-2-2-2zM9 17H7v-7h2v7zm4 0h-2V7h2v10zm4 0h-2v-4h2v4z\"/>\n",
              "    </g>\n",
              "</svg>\n",
              "      </button>\n",
              "\n",
              "<style>\n",
              "  .colab-df-quickchart {\n",
              "      --bg-color: #E8F0FE;\n",
              "      --fill-color: #1967D2;\n",
              "      --hover-bg-color: #E2EBFA;\n",
              "      --hover-fill-color: #174EA6;\n",
              "      --disabled-fill-color: #AAA;\n",
              "      --disabled-bg-color: #DDD;\n",
              "  }\n",
              "\n",
              "  [theme=dark] .colab-df-quickchart {\n",
              "      --bg-color: #3B4455;\n",
              "      --fill-color: #D2E3FC;\n",
              "      --hover-bg-color: #434B5C;\n",
              "      --hover-fill-color: #FFFFFF;\n",
              "      --disabled-bg-color: #3B4455;\n",
              "      --disabled-fill-color: #666;\n",
              "  }\n",
              "\n",
              "  .colab-df-quickchart {\n",
              "    background-color: var(--bg-color);\n",
              "    border: none;\n",
              "    border-radius: 50%;\n",
              "    cursor: pointer;\n",
              "    display: none;\n",
              "    fill: var(--fill-color);\n",
              "    height: 32px;\n",
              "    padding: 0;\n",
              "    width: 32px;\n",
              "  }\n",
              "\n",
              "  .colab-df-quickchart:hover {\n",
              "    background-color: var(--hover-bg-color);\n",
              "    box-shadow: 0 1px 2px rgba(60, 64, 67, 0.3), 0 1px 3px 1px rgba(60, 64, 67, 0.15);\n",
              "    fill: var(--button-hover-fill-color);\n",
              "  }\n",
              "\n",
              "  .colab-df-quickchart-complete:disabled,\n",
              "  .colab-df-quickchart-complete:disabled:hover {\n",
              "    background-color: var(--disabled-bg-color);\n",
              "    fill: var(--disabled-fill-color);\n",
              "    box-shadow: none;\n",
              "  }\n",
              "\n",
              "  .colab-df-spinner {\n",
              "    border: 2px solid var(--fill-color);\n",
              "    border-color: transparent;\n",
              "    border-bottom-color: var(--fill-color);\n",
              "    animation:\n",
              "      spin 1s steps(1) infinite;\n",
              "  }\n",
              "\n",
              "  @keyframes spin {\n",
              "    0% {\n",
              "      border-color: transparent;\n",
              "      border-bottom-color: var(--fill-color);\n",
              "      border-left-color: var(--fill-color);\n",
              "    }\n",
              "    20% {\n",
              "      border-color: transparent;\n",
              "      border-left-color: var(--fill-color);\n",
              "      border-top-color: var(--fill-color);\n",
              "    }\n",
              "    30% {\n",
              "      border-color: transparent;\n",
              "      border-left-color: var(--fill-color);\n",
              "      border-top-color: var(--fill-color);\n",
              "      border-right-color: var(--fill-color);\n",
              "    }\n",
              "    40% {\n",
              "      border-color: transparent;\n",
              "      border-right-color: var(--fill-color);\n",
              "      border-top-color: var(--fill-color);\n",
              "    }\n",
              "    60% {\n",
              "      border-color: transparent;\n",
              "      border-right-color: var(--fill-color);\n",
              "    }\n",
              "    80% {\n",
              "      border-color: transparent;\n",
              "      border-right-color: var(--fill-color);\n",
              "      border-bottom-color: var(--fill-color);\n",
              "    }\n",
              "    90% {\n",
              "      border-color: transparent;\n",
              "      border-bottom-color: var(--fill-color);\n",
              "    }\n",
              "  }\n",
              "</style>\n",
              "\n",
              "      <script>\n",
              "        async function quickchart(key) {\n",
              "          const quickchartButtonEl =\n",
              "            document.querySelector('#' + key + ' button');\n",
              "          quickchartButtonEl.disabled = true;  // To prevent multiple clicks.\n",
              "          quickchartButtonEl.classList.add('colab-df-spinner');\n",
              "          try {\n",
              "            const charts = await google.colab.kernel.invokeFunction(\n",
              "                'suggestCharts', [key], {});\n",
              "          } catch (error) {\n",
              "            console.error('Error during call to suggestCharts:', error);\n",
              "          }\n",
              "          quickchartButtonEl.classList.remove('colab-df-spinner');\n",
              "          quickchartButtonEl.classList.add('colab-df-quickchart-complete');\n",
              "        }\n",
              "        (() => {\n",
              "          let quickchartButtonEl =\n",
              "            document.querySelector('#df-5f3c1b2d-539a-4ab6-ace1-c779a018b9da button');\n",
              "          quickchartButtonEl.style.display =\n",
              "            google.colab.kernel.accessAllowed ? 'block' : 'none';\n",
              "        })();\n",
              "      </script>\n",
              "    </div>\n",
              "\n",
              "    </div>\n",
              "  </div>\n"
            ],
            "application/vnd.google.colaboratory.intrinsic+json": {
              "type": "dataframe",
              "variable_name": "count_subset",
              "summary": "{\n  \"name\": \"count_subset\",\n  \"rows\": 20,\n  \"fields\": [\n    {\n      \"column\": \"tz\",\n      \"properties\": {\n        \"dtype\": \"string\",\n        \"num_unique_values\": 10,\n        \"samples\": [\n          \"\",\n          \"Europe/Madrid\",\n          \"America/Denver\"\n        ],\n        \"semantic_type\": \"\",\n        \"description\": \"\"\n      }\n    },\n    {\n      \"column\": \"os\",\n      \"properties\": {\n        \"dtype\": \"category\",\n        \"num_unique_values\": 2,\n        \"samples\": [\n          \"Windows\",\n          \"Not Windows\"\n        ],\n        \"semantic_type\": \"\",\n        \"description\": \"\"\n      }\n    },\n    {\n      \"column\": \"total\",\n      \"properties\": {\n        \"dtype\": \"number\",\n        \"std\": 211.1454973534401,\n        \"min\": 0.0,\n        \"max\": 912.0,\n        \"num_unique_values\": 20,\n        \"samples\": [\n          13.0,\n          276.0\n        ],\n        \"semantic_type\": \"\",\n        \"description\": \"\"\n      }\n    }\n  ]\n}"
            }
          },
          "metadata": {},
          "execution_count": 54
        }
      ]
    },
    {
      "cell_type": "markdown",
      "source": [
        "- Visualize"
      ],
      "metadata": {
        "id": "cccYRBi15mnx"
      }
    },
    {
      "cell_type": "code",
      "source": [
        "sns.barplot(x=\"total\", y=\"tz\", hue=\"os\", data=count_subset)"
      ],
      "metadata": {
        "colab": {
          "base_uri": "https://localhost:8080/",
          "height": 466
        },
        "id": "hx8-h0wr5oX0",
        "outputId": "115cad93-0356-462d-e2bf-1aeeb6c25bf4"
      },
      "execution_count": 55,
      "outputs": [
        {
          "output_type": "execute_result",
          "data": {
            "text/plain": [
              "<Axes: xlabel='total', ylabel='tz'>"
            ]
          },
          "metadata": {},
          "execution_count": 55
        },
        {
          "output_type": "display_data",
          "data": {
            "text/plain": [
              "<Figure size 640x480 with 1 Axes>"
            ],
            "image/png": "[encoded data removed]"
          },
          "metadata": {}
        }
      ]
    },
    {
      "cell_type": "markdown",
      "source": [
        "- Biểu đồ trên chưa thể hiện rõ sự tương quan về phần trăm đối với người dùng Window trong các nhóm time zone nhỏ, vì thế ta sẽ thay độ phần trăm giữa các nhóm thành tổng của 1"
      ],
      "metadata": {
        "id": "nDN1zyRe58Wb"
      }
    },
    {
      "cell_type": "code",
      "source": [
        "def norm_total(group):\n",
        "  group[\"normed_total\"] = group[\"total\"] / group[\"total\"].sum()\n",
        "  return group\n",
        "\n",
        "results = count_subset.groupby(\"tz\").apply(norm_total)"
      ],
      "metadata": {
        "colab": {
          "base_uri": "https://localhost:8080/"
        },
        "id": "dnJl5yKX6qom",
        "outputId": "af880815-f39f-4298-c386-07e9539b4bca"
      },
      "execution_count": 56,
      "outputs": [
        {
          "output_type": "stream",
          "name": "stderr",
          "text": [
            "/tmp/ipython-input-1308235100.py:5: DeprecationWarning: DataFrameGroupBy.apply operated on the grouping columns. This behavior is deprecated, and in a future version of pandas the grouping columns will be excluded from the operation. Either pass `include_groups=False` to exclude the groupings or explicitly select the grouping columns after groupby to silence this warning.\n",
            "  results = count_subset.groupby(\"tz\").apply(norm_total)\n"
          ]
        }
      ]
    },
    {
      "cell_type": "markdown",
      "source": [
        "- Visualize"
      ],
      "metadata": {
        "id": "dmgTQHQz679Z"
      }
    },
    {
      "cell_type": "code",
      "source": [
        "sns.barplot(x=\"normed_total\", y=\"tz\", hue=\"os\", data=results)"
      ],
      "metadata": {
        "colab": {
          "base_uri": "https://localhost:8080/",
          "height": 467
        },
        "id": "uJ2pm8zM6-CW",
        "outputId": "994ef793-cd4e-47d7-c071-a3d1fad8e712"
      },
      "execution_count": 57,
      "outputs": [
        {
          "output_type": "execute_result",
          "data": {
            "text/plain": [
              "<Axes: xlabel='normed_total', ylabel='tz'>"
            ]
          },
          "metadata": {},
          "execution_count": 57
        },
        {
          "output_type": "display_data",
          "data": {
            "text/plain": [
              "<Figure size 640x480 with 1 Axes>"
            ],
            "image/png": "[encoded data removed]"
          },
          "metadata": {}
        }
      ]
    },
    {
      "cell_type": "markdown",
      "source": [
        "Từ biểu đồ trên ta có thể thấy được:"
      ],
      "metadata": {
        "id": "LEqFQsLN7E7m"
      }
    },
    {
      "cell_type": "markdown",
      "source": [
        "- Phần trăm người dùng sử dụng các thiết bị Window ở những khu vực đông đúc chiếm tương đối cao.\n",
        "- Riêng đối với khu vực London EU thì phần trăm cao hơn bởi người dùng sử dụng các nền tảng khác."
      ],
      "metadata": {
        "id": "h1evBF8A7Ird"
      }
    },
    {
      "cell_type": "markdown",
      "source": [
        "Ngoài ra, có thể tính tổng được chuẩn hóa theo cách hiệu quả hơn bằng cách dùng phương pháp transform với groupby:"
      ],
      "metadata": {
        "id": "P9CdD2Ua8p0c"
      }
    },
    {
      "cell_type": "code",
      "source": [
        "g = count_subset.groupby(\"tz\")\n",
        "results2 = count_subset[\"total\"] / g[\"total\"].transform(\"sum\")"
      ],
      "metadata": {
        "id": "tLrwwVfI9a20"
      },
      "execution_count": 58,
      "outputs": []
    }
  ]
}